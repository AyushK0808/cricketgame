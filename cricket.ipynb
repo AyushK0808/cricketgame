{
 "cells": [
  {
   "cell_type": "code",
   "execution_count": 19,
   "metadata": {},
   "outputs": [
    {
     "name": "stdout",
     "output_type": "stream",
     "text": [
      "------------T20 CRICKET-------------------------\n",
      "TEAMS: \n",
      " INDIA \n",
      " AUSTRALIA \n",
      " ENGLAND \n",
      " NEWZEALAND \n",
      " PAKISTAN \n",
      " SRILANKA \n",
      " WESTINDIES \n",
      " SOUTHAFRICA \n",
      "\n",
      "PLAYER 1 TEAM: PAKISTAN\n",
      "PLAYER 2 TEAM: ENGLAND\n",
      "['BABAR', 'RIZWAN', 'HARIS', 'MASOOD', 'IFTIKHAR', 'SHADAB', 'NAWAZ', 'M.WASIM', 'NASEEM', 'RAUF', 'SHAHEEN_AFRIDI']\n",
      "['BUTLER', 'HALES', 'MALAN', 'STOKES', 'LIVINGSTONE', 'H_BROOK', 'M_ALI', 'S_CURRAN', 'ARCHER', 'RASHID', 'WOOD']\n"
     ]
    }
   ],
   "source": [
    "print('------------T20 CRICKET-------------------------')\n",
    "print('TEAMS: \\n INDIA \\n AUSTRALIA \\n ENGLAND \\n NEWZEALAND \\n PAKISTAN \\n SRILANKA \\n WESTINDIES \\n SOUTHAFRICA \\n')\n",
    "team1=input('Choose team 1').upper()\n",
    "team2=input('Choose team 2').upper()\n",
    "print(f'PLAYER 1 TEAM: {team1}')\n",
    "print(f'PLAYER 2 TEAM: {team2}')\n",
    "\n",
    "\n",
    "players={'INDIA':['ROHIT','KL RAHUL','KOHLI','SKY','PANT','HARDIK','JADEJA','BHUVI','BUMRAH','ARSHDEEP','CHAHAL'],\n",
    "\n",
    "'AUSTRALIA':['WARNER','FINCH','S_SMITH','MAXWELL','STOINIS','T_DAVID','M_WADE','CUMMINS','AGAR','STARC','HAZELWOOD'],\n",
    "\n",
    "'ENGLAND':['BUTLER','HALES','MALAN','STOKES','LIVINGSTONE','H_BROOK','M_ALI','S_CURRAN','ARCHER','RASHID','WOOD'],\n",
    "\n",
    "'NEWZEALAND':['ALLEN','CONWAY','WILLIAMSON','PHILLIPS','D_MITCHELL','NEESHAM','SANTNER','SOUTHEE','SODHI','FERGUSON','BOULT'],\n",
    "\n",
    "'PAKISTAN':['BABAR','RIZWAN','HARIS','MASOOD','IFTIKHAR','SHADAB','NAWAZ','M.WASIM','NASEEM','RAUF','SHAHEEN_AFRIDI'],\n",
    "\n",
    "'SRILANKA':['NISSANKA','K_MENDIS','D_de_SILVA','ASALANKA','B_RAJAPAKSA','SHANAKA','HASARANGA','C_KARUNARATNE','THEEKSHANA','L_KUMARA','CHAMEERA'],\n",
    "\n",
    "'WESTINDIES':['MAYERS','J_CHARLES','LEWIS','POORAN','HETMYER','POWELL','HOLDER','A_HOSSEIN','A_JOSEPH','O_SMITH','McCOY'],\n",
    "\n",
    "'SOUTHAFRICA':['deKOCK','BAVUMA','ROSSOUW','MARKRAM','MILLER','STUBBS','PARNELL','RABADA','NGIDI','NORTJE','SHAMSI']}\n",
    "print(players[team1])\n",
    "print(players[team2])\n",
    "\n",
    "\n"
   ]
  }
 ],
 "metadata": {
  "kernelspec": {
   "display_name": "base",
   "language": "python",
   "name": "python3"
  },
  "language_info": {
   "codemirror_mode": {
    "name": "ipython",
    "version": 3
   },
   "file_extension": ".py",
   "mimetype": "text/x-python",
   "name": "python",
   "nbconvert_exporter": "python",
   "pygments_lexer": "ipython3",
   "version": "3.9.12 (main, Apr  4 2022, 05:22:27) [MSC v.1916 64 bit (AMD64)]"
  },
  "orig_nbformat": 4,
  "vscode": {
   "interpreter": {
    "hash": "6aa209696123fdad75e4e84d4d3188f4fafae22a545f27df8dd1ccecea79397e"
   }
  }
 },
 "nbformat": 4,
 "nbformat_minor": 2
}
