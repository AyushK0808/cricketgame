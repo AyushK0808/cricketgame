{
 "cells": [
  {
   "cell_type": "code",
   "execution_count": 4,
   "metadata": {},
   "outputs": [
    {
     "name": "stdout",
     "output_type": "stream",
     "text": [
      "['ROHIT', 'KL RAHUL', 'KOHLI', 'SKY', 'PANT', 'HARDIK', 'JADEJA', 'BHUVI', 'BUMRAH', 'ARSHDEEP', 'CHAHAL']\n",
      "['BABAR', 'RIZWAN', 'HARIS', 'MASOOD', 'IFTIKHAR', 'SHADAB', 'NAWAZ', 'M.WASIM', 'NASEEM', 'RAUF', 'SHAHEEN_AFRIDI']\n"
     ]
    }
   ],
   "source": [
    "#TEAM SELECTION\n",
    "\n",
    "team1=input()\n",
    "team2=input()\n",
    "players={'INDIA':['ROHIT','KL RAHUL','KOHLI','SKY','PANT','HARDIK','JADEJA','BHUVI','BUMRAH','ARSHDEEP','CHAHAL'],\n",
    "\n",
    "'AUSTRALIA':['WARNER','FINCH','S_SMITH','MAXWELL','STOINIS','T_DAVID','M_WADE','CUMMINS','AGAR','STARC','HAZELWOOD'],\n",
    "\n",
    "'ENGLAND':['BUTLER','HALES','MALAN','STOKES','LIVINGSTONE','H_BROOK','M_ALI','S_CURRAN','ARCHER','RASHID','WOOD'],\n",
    "\n",
    "'NEWZEALAND':['ALLEN','CONWAY','WILLIAMSON','PHILLIPS','D_MITCHELL','NEESHAM','SANTNER','SOUTHEE','SODHI','FERGUSON','BOULT'],\n",
    "\n",
    "'PAKISTAN':['BABAR','RIZWAN','HARIS','MASOOD','IFTIKHAR','SHADAB','NAWAZ','M.WASIM','NASEEM','RAUF','SHAHEEN_AFRIDI'],\n",
    "\n",
    "'SRILANKA':['NISSANKA','K_MENDIS','D_de_SILVA','ASALANKA','B_RAJAPAKSA','SHANAKA','HASARANGA','C_KARUNARATNE','THEEKSHANA','L_KUMARA','CHAMEERA'],\n",
    "\n",
    "'WESTINDIES':['MAYERS','J_CHARLES','LEWIS','POORAN','HETMYER','POWELL','HOLDER','A_HOSSEIN','A_JOSEPH','O_SMITH','McCOY'],\n",
    "\n",
    "'SOUTHAFRICA':['deKOCK','BAVUMA','ROSSOUW','MARKRAM','MILLER','STUBBS','PARNELL','RABADA','NGIDI','NORTJE','SHAMSI']}\n",
    "print(players[team1])\n",
    "print(players[team2])"
   ]
  },
  {
   "cell_type": "code",
   "execution_count": 9,
   "metadata": {},
   "outputs": [
    {
     "name": "stdout",
     "output_type": "stream",
     "text": [
      "Toss to be called by : PAKISTAN\n",
      "Batting side: ['BABAR', 'RIZWAN', 'HARIS', 'MASOOD', 'IFTIKHAR', 'SHADAB', 'NAWAZ', 'M.WASIM', 'NASEEM', 'RAUF', 'SHAHEEN_AFRIDI']\n",
      "{'BABAR': [0, 0], 'RIZWAN': [0, 0], 'HARIS': [0, 0], 'MASOOD': [0, 0], 'IFTIKHAR': [0, 0], 'SHADAB': [0, 0], 'NAWAZ': [0, 0], 'M.WASIM': [0, 0], 'NASEEM': [0, 0], 'RAUF': [0, 0], 'SHAHEEN_AFRIDI': [0, 0]}\n"
     ]
    }
   ],
   "source": [
    "#TOSS\n",
    "import random\n",
    "teamlist=[]\n",
    "team1=input().upper()\n",
    "team2=input().upper()\n",
    "teamlist.append(team1)\n",
    "teamlist.append(team2)\n",
    "caller=teamlist[random.randint(0,1)]\n",
    "noncaller=''\n",
    "for i in teamlist:\n",
    "    if i!=caller:\n",
    "        i=noncaller\n",
    "print(f'Toss to be called by : {caller}')\n",
    "toss=['HEADS','TAILS']\n",
    "coin=toss[random.randint(0,1)]\n",
    "call=input('What is your call for toss?').upper()\n",
    "if coin==call:\n",
    "    choice=input('You win,choose to?: ').upper()\n",
    "    if choice=='BAT':\n",
    "        print(f'Batting side: {players[caller]}')\n",
    "        bat1={key:[0,0] for key in players[caller]}\n",
    "        print(bat1)\n",
    "    else:\n",
    "        print(f'Batting side: {players[noncaller]} ')\n",
    "        bat1={key:[0,0] for key in players[noncaller]}\n",
    "        print(bat1)\n",
    "\n",
    "else:\n",
    "    choice=input('You lost, opponent choses to?: ').upper()\n",
    "    if choice=='BAT':\n",
    "        print(f'Batting side: {players[noncaller]}')\n",
    "        bat1={key:[0,0] for key in players[noncaller]}\n",
    "        print(bat1)\n",
    "      \n",
    "    else:\n",
    "        print(f'Batting side: {players[caller]} ')\n",
    "        bat1={key:[0,0] for key in players[caller]}\n",
    "        print(bat1)\n",
    "\n"
   ]
  },
  {
   "cell_type": "code",
   "execution_count": 10,
   "metadata": {},
   "outputs": [
    {
     "name": "stdout",
     "output_type": "stream",
     "text": [
      "{1: [0, 0], 2: [0, 0], 3: [0, 0], 4: [0, 0], 5: [0, 0]}\n",
      "[0, 0]\n"
     ]
    }
   ],
   "source": [
    "A=[1,2,3,4,5,6,7,8,9,10,11]\n",
    "B={key:[0,0] for key in A}\n",
    "print(B)\n",
    "print(B[2])"
   ]
  },
  {
   "cell_type": "code",
   "execution_count": 1,
   "metadata": {},
   "outputs": [
    {
     "name": "stdout",
     "output_type": "stream",
     "text": [
      "3\n",
      "1\n",
      "1\n",
      "noball\n",
      "3\n",
      "3\n",
      "[12, 0]\n",
      "Overs done: 1\n",
      "2\n",
      "2\n",
      "W\n",
      "[16, 1]\n",
      "3\n",
      "1st Innings score:[19, 1]\n",
      "3\n",
      "W\n",
      "[3, 1]\n",
      "2\n",
      "noball\n",
      "1\n",
      "0\n",
      "[7, 1]\n",
      "Overs done: 1\n",
      "1\n",
      "4\n",
      "0\n",
      "3\n",
      "2nd Innings score:[15, 1]\n",
      "Team 1 Wins\n"
     ]
    }
   ],
   "source": [
    "#GAME\n",
    "import random\n",
    "\n",
    "outcomes=[0,1,2,3,4,6,'W','wide','noball']\n",
    "ball_count1=1\n",
    "score1=[0,0]\n",
    "scoring=[0,1,2,3,4,6]\n",
    "\n",
    "while ball_count1<10:\n",
    "    k=outcomes[random.randint(0,(len(outcomes)-1))]\n",
    "    print(k)\n",
    "    if k in scoring:\n",
    "        score1[0]=score1[0]+k\n",
    "        \n",
    "        ball_count1=ball_count1+1\n",
    "        if k==1 or k==3:\n",
    "\n",
    "    if k=='W':\n",
    "        score1[1]=score1[1]+1\n",
    "        ball_count1=ball_count1+1\n",
    "        print(score1)\n",
    "    if k=='wide' or k=='noball':\n",
    "        score1[0]=score1[0]+1\n",
    "        ball_count1=ball_count1+0\n",
    "    if score1[1]>=10:\n",
    "        print(score1)\n",
    "        break\n",
    "    if (ball_count1)%6==0:\n",
    "        print(score1)\n",
    "        print(f'Overs done: {ball_count1//6}')\n",
    "\n",
    "print(f'1st Innings score:{score1}')\n",
    "\n",
    "ball_count2=1\n",
    "score2=[0,0]\n",
    "while ball_count2<10:\n",
    "    k=outcomes[random.randint(0,(len(outcomes)-1))]\n",
    "    print(k)\n",
    "    if k in scoring:\n",
    "        score2[0]=score2[0]+k\n",
    "        ball_count2=ball_count2+1\n",
    "    if k=='W':\n",
    "        score2[1]=score2[1]+1\n",
    "        ball_count2=ball_count2+1\n",
    "        print(score2)\n",
    "    if k=='wide' or k=='noball':\n",
    "        score2[0]=score2[0]+1\n",
    "        ball_count2=ball_count2+0\n",
    "    if score2[1]>=10:\n",
    "        print(score2)\n",
    "        break\n",
    "    if score2[0]>score1[0]:\n",
    "        print(score2)\n",
    "        break\n",
    "    if (ball_count2)%6==0:\n",
    "        print(score2)\n",
    "        print(f'Overs done: {ball_count2//6}')\n",
    "\n",
    "print(f'2nd Innings score:{score2}')\n",
    "if score1[0]>score2[0]:\n",
    "    print('Team 1 Wins')\n",
    "elif score1[0]<score2[0]:\n",
    "    print('Team 2 wins')\n",
    "else:\n",
    "    print('Match Drawn')"
   ]
  },
  {
   "cell_type": "code",
   "execution_count": null,
   "metadata": {},
   "outputs": [],
   "source": [
    "import random\n",
    "A=[1,2,3,4,5,6,7,8,9,10,11]\n",
    "B={key:[0,0] for key in A}\n",
    "print(B)\n",
    "print(B[2])\n",
    "outcomes=[0,1,2,3,4,6,'W','wide','noball']\n",
    "ball_count1=1\n",
    "score1=[0,0]\n",
    "scoring=[0,1,2,3,4,6]\n",
    "\n",
    "while ball_count1<10:\n",
    "    k=outcomes[random.randint(0,(len(outcomes)-1))]\n",
    "    print(k)\n",
    "    if k in scoring:\n",
    "        score1[0]=score1[0]+k\n",
    "        \n",
    "        ball_count1=ball_count1+1\n",
    "        if k==1 or k==3:\n",
    "\n",
    "    if k=='W':\n",
    "        score1[1]=score1[1]+1\n",
    "        ball_count1=ball_count1+1\n",
    "        print(score1)\n",
    "    if k=='wide' or k=='noball':\n",
    "        score1[0]=score1[0]+1\n",
    "        ball_count1=ball_count1+0\n",
    "    if score1[1]>=10:\n",
    "        print(score1)\n",
    "        break\n",
    "    if (ball_count1)%6==0:\n",
    "        print(score1)\n",
    "        print(f'Overs done: {ball_count1//6}')\n",
    "\n",
    "print(f'1st Innings score:{score1}')"
   ]
  }
 ],
 "metadata": {
  "kernelspec": {
   "display_name": "base",
   "language": "python",
   "name": "python3"
  },
  "language_info": {
   "codemirror_mode": {
    "name": "ipython",
    "version": 3
   },
   "file_extension": ".py",
   "mimetype": "text/x-python",
   "name": "python",
   "nbconvert_exporter": "python",
   "pygments_lexer": "ipython3",
   "version": "3.9.12 (main, Apr  4 2022, 05:22:27) [MSC v.1916 64 bit (AMD64)]"
  },
  "orig_nbformat": 4,
  "vscode": {
   "interpreter": {
    "hash": "6aa209696123fdad75e4e84d4d3188f4fafae22a545f27df8dd1ccecea79397e"
   }
  }
 },
 "nbformat": 4,
 "nbformat_minor": 2
}
